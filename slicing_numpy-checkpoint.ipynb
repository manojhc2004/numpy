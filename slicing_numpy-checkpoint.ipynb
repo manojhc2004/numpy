{
 "cells": [
  {
   "cell_type": "code",
   "execution_count": 29,
   "id": "d1b8b51e-c554-48a4-b113-05a923df3a9e",
   "metadata": {},
   "outputs": [],
   "source": [
    "import numpy as np"
   ]
  },
  {
   "cell_type": "code",
   "execution_count": null,
   "id": "2a98f4e1-7219-4afb-8100-afd70bc3ef07",
   "metadata": {},
   "outputs": [],
   "source": [
    "#slicing "
   ]
  },
  {
   "cell_type": "code",
   "execution_count": 7,
   "id": "5420e36d-c0c8-4f5b-9630-b837482d8aaa",
   "metadata": {},
   "outputs": [],
   "source": [
    "np1 = np.array([1,2,3,4,5,6,7,8,9,10])\n"
   ]
  },
  {
   "cell_type": "code",
   "execution_count": null,
   "id": "d18a7d52-569c-4394-b64d-1967c02c2e0c",
   "metadata": {},
   "outputs": [],
   "source": [
    "print(np1)"
   ]
  },
  {
   "cell_type": "code",
   "execution_count": 10,
   "id": "4c955c7f-b1b8-4285-b646-ea0395fc7316",
   "metadata": {},
   "outputs": [
    {
     "name": "stdout",
     "output_type": "stream",
     "text": [
      "[2 3 4 5]\n"
     ]
    }
   ],
   "source": [
    "print(np1[1:5]) #[2,3,4,5]"
   ]
  },
  {
   "cell_type": "code",
   "execution_count": null,
   "id": "74ca95fa-8412-426c-b674-172e7120a405",
   "metadata": {},
   "outputs": [],
   "source": [
    "#reverse\n",
    "print(np1[::-1])"
   ]
  },
  {
   "cell_type": "code",
   "execution_count": 14,
   "id": "e1f2f265-233b-4360-a2cd-0f43bcd09de7",
   "metadata": {},
   "outputs": [
    {
     "name": "stdout",
     "output_type": "stream",
     "text": [
      "[ 1  2  3  4  5  6  7  8  9 10]\n"
     ]
    }
   ],
   "source": [
    "print(np1[::1]) #straight"
   ]
  },
  {
   "cell_type": "code",
   "execution_count": 23,
   "id": "86a609ed-7d13-472b-a8cc-dc9aa3da7080",
   "metadata": {},
   "outputs": [
    {
     "name": "stdout",
     "output_type": "stream",
     "text": [
      "[10  9  8  7]\n"
     ]
    }
   ],
   "source": [
    "#negative indexing\n",
    "print(np1[-1:-5:-1]) #reverse "
   ]
  },
  {
   "cell_type": "code",
   "execution_count": 24,
   "id": "ca232633-e547-45a6-b629-8281f0e37b3e",
   "metadata": {},
   "outputs": [
    {
     "name": "stdout",
     "output_type": "stream",
     "text": [
      "[1 3 5 7 9]\n"
     ]
    }
   ],
   "source": [
    "#step\n",
    "print(np1[::2]) #jumping 2 "
   ]
  },
  {
   "cell_type": "code",
   "execution_count": 33,
   "id": "de2da885-5c9f-4a9d-b5a4-33051e502f89",
   "metadata": {},
   "outputs": [
    {
     "name": "stdout",
     "output_type": "stream",
     "text": [
      "[[1 2 3 4 0]\n",
      " [5 6 7 8 9]]\n"
     ]
    }
   ],
   "source": [
    "#2D dim\n",
    "\n",
    "np2 = np.array([[1,2,3,4,0],[5,6,7,8,9]]) # !lenght should be same in both array\n",
    "print(np2)"
   ]
  },
  {
   "cell_type": "code",
   "execution_count": 37,
   "id": "46ec7ec4-8783-449b-b96e-f9be4a046265",
   "metadata": {},
   "outputs": [
    {
     "name": "stdout",
     "output_type": "stream",
     "text": [
      "[8 9]\n"
     ]
    }
   ],
   "source": [
    "#2D array slicing \n",
    "print(np2[1,3:]) "
   ]
  },
  {
   "cell_type": "code",
   "execution_count": 51,
   "id": "576d0508-bb16-46f6-9183-fb6dc1ef1726",
   "metadata": {},
   "outputs": [
    {
     "name": "stdout",
     "output_type": "stream",
     "text": [
      "[[2 3 4]]\n"
     ]
    }
   ],
   "source": [
    "print(np2[0:1, 1:4]) #index 0 slicing"
   ]
  },
  {
   "cell_type": "code",
   "execution_count": 71,
   "id": "c20a697f-a8f8-4994-bec7-dffb750f0229",
   "metadata": {},
   "outputs": [
    {
     "name": "stdout",
     "output_type": "stream",
     "text": [
      "[ 1  2  3  4  5  6  7  8  9 10]\n"
     ]
    }
   ],
   "source": [
    "#both index slicing\n",
    "print(np1)"
   ]
  },
  {
   "cell_type": "code",
   "execution_count": 74,
   "id": "31aceb82-f58a-4153-a11b-1f0a38eb10a1",
   "metadata": {},
   "outputs": [
    {
     "name": "stdout",
     "output_type": "stream",
     "text": [
      "[[1 2 3 4 0]\n",
      " [5 6 7 8 9]]\n"
     ]
    }
   ],
   "source": [
    "print(np2)"
   ]
  },
  {
   "cell_type": "code",
   "execution_count": 92,
   "id": "dbe43743-f789-4e72-b09d-3c462dac48ad",
   "metadata": {},
   "outputs": [
    {
     "name": "stdout",
     "output_type": "stream",
     "text": [
      "[[1]\n",
      " [5]]\n"
     ]
    }
   ],
   "source": [
    "print(np2[0:2, 0:1]) #slicing both # !0:2 is the index of array 0 = [1,2,3,4,0] , 1 = [5,6,7,8,9] 0 index upto 2 . we have 0,1 index array"
   ]
  },
  {
   "cell_type": "code",
   "execution_count": null,
   "id": "c3bec764-c7c5-4de2-8fe7-abd160f4e9fe",
   "metadata": {},
   "outputs": [],
   "source": []
  }
 ],
 "metadata": {
  "kernelspec": {
   "display_name": "Python 3 (ipykernel)",
   "language": "python",
   "name": "python3"
  },
  "language_info": {
   "codemirror_mode": {
    "name": "ipython",
    "version": 3
   },
   "file_extension": ".py",
   "mimetype": "text/x-python",
   "name": "python",
   "nbconvert_exporter": "python",
   "pygments_lexer": "ipython3",
   "version": "3.13.5"
  }
 },
 "nbformat": 4,
 "nbformat_minor": 5
}
