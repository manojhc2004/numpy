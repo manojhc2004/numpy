{
 "cells": [
  {
   "cell_type": "code",
   "execution_count": null,
   "id": "e9098009-b76a-4892-b49d-854acd277f0b",
   "metadata": {},
   "outputs": [],
   "source": [
    "import numpy as np\n",
    "#shape \n",
    "#reshape"
   ]
  },
  {
   "cell_type": "code",
   "execution_count": null,
   "id": "46795703-f0aa-49e5-b18a-ec009b8b3fc8",
   "metadata": {},
   "outputs": [],
   "source": [
    "np1 = np.array([1,2,3,4,5,6])\n",
    "print(np1.shape)  #shape, output [1,2,3,4,5,6]"
   ]
  },
  {
   "cell_type": "code",
   "execution_count": null,
   "id": "59f3c588-3a6e-4d44-9502-569c23e72219",
   "metadata": {},
   "outputs": [],
   "source": [
    "np2 = np.array([[1,2,3],[4,5,6]])\n",
    "print(np2.shape) #ouput (2, 3) = 2 rows , 3 columns"
   ]
  },
  {
   "cell_type": "code",
   "execution_count": null,
   "id": "651605e9-d374-4d04-a9ca-88b39db185cf",
   "metadata": {},
   "outputs": [],
   "source": [
    "#reshape 1D dim to 2dim\n",
    "np3 = np.array([1,2,3,4,5,6])\n",
    "reshape = np3.reshape(2,3) \n",
    "print(reshape)  #output [[1 2 3]\n",
    "                        [4 5 6]]"
   ]
  },
  {
   "cell_type": "code",
   "execution_count": null,
   "id": "40a1456c-b1ce-423d-ba1a-3072ca9e50cc",
   "metadata": {},
   "outputs": [],
   "source": [
    "#3D dim\n",
    "np4 = np.array([1,2,3,4,5,6,7,8,9,10,11,12])\n",
    "np5 = np4.reshape(3,2,2)\n",
    "print(np5)   #[[[ 1  2]\n",
    "              [ 3  4]]\n",
    "            \n",
    "             [[ 5  6]\n",
    "              [ 7  8]]\n",
    "            \n",
    "             [[ 9 10]\n",
    "              [11 12]]]\n",
    "                  "
   ]
  },
  {
   "cell_type": "code",
   "execution_count": 17,
   "id": "f347d85a-03e6-4757-9faf-334b097d2392",
   "metadata": {},
   "outputs": [
    {
     "name": "stdout",
     "output_type": "stream",
     "text": [
      "[ 1  2  3  4  5  6  7  8  9 10 11 12]\n"
     ]
    }
   ],
   "source": [
    "#reset to 1D array\n",
    "np6 = np4.reshape(-1)\n",
    "print(np6)"
   ]
  },
  {
   "cell_type": "code",
   "execution_count": null,
   "id": "dd1ed562-1cf0-4ad4-a8f6-e7457c837863",
   "metadata": {},
   "outputs": [],
   "source": []
  }
 ],
 "metadata": {
  "kernelspec": {
   "display_name": "Python 3 (ipykernel)",
   "language": "python",
   "name": "python3"
  },
  "language_info": {
   "codemirror_mode": {
    "name": "ipython",
    "version": 3
   },
   "file_extension": ".py",
   "mimetype": "text/x-python",
   "name": "python",
   "nbconvert_exporter": "python",
   "pygments_lexer": "ipython3",
   "version": "3.13.5"
  }
 },
 "nbformat": 4,
 "nbformat_minor": 5
}
