{
 "cells": [
  {
   "cell_type": "code",
   "execution_count": 2,
   "id": "959251b8-24af-43b8-83c7-b523e565d182",
   "metadata": {},
   "outputs": [],
   "source": [
    "import numpy as np"
   ]
  },
  {
   "cell_type": "code",
   "execution_count": null,
   "id": "97d268ba-fce1-43da-a518-9d81316bd524",
   "metadata": {},
   "outputs": [],
   "source": [
    "#loop iteration\n",
    "#1D array \n",
    "np1 = np.array([1,2,3,4,5])\n",
    "\n",
    "for i in np1:  #same as a python\n",
    "    print(i)\n",
    "\n",
    "    "
   ]
  },
  {
   "cell_type": "code",
   "execution_count": null,
   "id": "cd408d86-3ed5-40a5-9f5f-7c1b1e4c4168",
   "metadata": {},
   "outputs": [],
   "source": [
    "#2D array\n",
    "np2 = np.array([[1,2,3,4],[5,6,7,8]])\n",
    "\n",
    "for j in np2:\n",
    "    for k in j: #nested loop \n",
    "        print(k)"
   ]
  },
  {
   "cell_type": "code",
   "execution_count": null,
   "id": "65dbbbcd-c2eb-4f6e-bba3-a3f0b138c799",
   "metadata": {},
   "outputs": [],
   "source": [
    "np3 = np.array([[[1,2,3],[4,5,6],[7,8,9]]])\n",
    "'''for d in np3:\n",
    "    for h in d:  #three nested loop\n",
    "        for m in h:\n",
    "            print(m)'''\n",
    "\n",
    "#use \n",
    "for d in np.nditer(np3):  #nditer\n",
    "    print(d)"
   ]
  },
  {
   "cell_type": "code",
   "execution_count": null,
   "id": "0ced5f18-350a-4d13-a428-e44ed7fa85cf",
   "metadata": {},
   "outputs": [],
   "source": []
  },
  {
   "cell_type": "code",
   "execution_count": null,
   "id": "2b5d1bcf-f675-4efe-8664-e96b716c9b98",
   "metadata": {},
   "outputs": [],
   "source": []
  }
 ],
 "metadata": {
  "kernelspec": {
   "display_name": "Python 3 (ipykernel)",
   "language": "python",
   "name": "python3"
  },
  "language_info": {
   "codemirror_mode": {
    "name": "ipython",
    "version": 3
   },
   "file_extension": ".py",
   "mimetype": "text/x-python",
   "name": "python",
   "nbconvert_exporter": "python",
   "pygments_lexer": "ipython3",
   "version": "3.13.5"
  }
 },
 "nbformat": 4,
 "nbformat_minor": 5
}
