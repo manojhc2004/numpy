{
 "cells": [
  {
   "cell_type": "code",
   "execution_count": 1,
   "id": "fe2af137-6587-4611-bb74-5c133e95cbb1",
   "metadata": {},
   "outputs": [],
   "source": [
    "import numpy as np\n"
   ]
  },
  {
   "cell_type": "code",
   "execution_count": null,
   "id": "455ac322-e195-4f9b-9508-ea1c3d5d4ec8",
   "metadata": {},
   "outputs": [],
   "source": [
    "#numerical sort\n",
    "np1 = np.array([8,1,4,3,2,4,6])\n",
    "sort = np.sort(np1) #same as a python syntax\n",
    "print(sort)  #[1 2 3 4 4 6 8]"
   ]
  },
  {
   "cell_type": "code",
   "execution_count": null,
   "id": "e036d480-1d4a-4a82-9a2f-ad6a5cccacaf",
   "metadata": {},
   "outputs": [],
   "source": [
    "#alphabetical sort\n",
    "np2 = np.array([\"h\",\"z\",\"w\",\"a\",\"d\"])\n",
    "sort = np.sort(np2)\n",
    "print(sort) #['a' 'd' 'h' 'w' 'z']"
   ]
  },
  {
   "cell_type": "code",
   "execution_count": null,
   "id": "31bed98b-ecb9-4870-afe0-25a93a627997",
   "metadata": {},
   "outputs": [],
   "source": [
    "#2D sort\n",
    "np3 = np.array([[3,2,1],[8,6,7]])\n",
    "sort = np.sort(np3)\n",
    "print(sort) #[[1 2 3]\n",
    "             #[6 7 8]]"
   ]
  },
  {
   "cell_type": "code",
   "execution_count": null,
   "id": "33ab5fed-228c-4c9f-bf16-71cd80189881",
   "metadata": {},
   "outputs": [],
   "source": [
    "#3D sort\n",
    "np4 = np.array([[[3,2,1],[5,4,5],[8,7,9]]])\n",
    "sort = np.sort(np4)\n",
    "print(np4) '''[[[3 2 1]\n",
    "              [5 4 5]\n",
    "              [8 7 9]]]'''"
   ]
  },
  {
   "cell_type": "code",
   "execution_count": null,
   "id": "c7159e80-2578-4981-a242-a4847eeb852f",
   "metadata": {},
   "outputs": [],
   "source": []
  }
 ],
 "metadata": {
  "kernelspec": {
   "display_name": "Python 3 (ipykernel)",
   "language": "python",
   "name": "python3"
  },
  "language_info": {
   "codemirror_mode": {
    "name": "ipython",
    "version": 3
   },
   "file_extension": ".py",
   "mimetype": "text/x-python",
   "name": "python",
   "nbconvert_exporter": "python",
   "pygments_lexer": "ipython3",
   "version": "3.13.5"
  }
 },
 "nbformat": 4,
 "nbformat_minor": 5
}
