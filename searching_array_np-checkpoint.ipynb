{
 "cells": [
  {
   "cell_type": "code",
   "execution_count": 1,
   "id": "60020f6a-c296-490f-9c65-55deabd60664",
   "metadata": {},
   "outputs": [],
   "source": [
    "import numpy as np\n"
   ]
  },
  {
   "cell_type": "code",
   "execution_count": null,
   "id": "94681460-490f-40cb-b96a-f0ba3d531dd7",
   "metadata": {},
   "outputs": [],
   "source": [
    "#searching array\n",
    "np1 = np.array([1,2,3,4,5,6])\n",
    "search = np.where(np1 == 5)\n",
    "print(search) #returing the index of the element"
   ]
  },
  {
   "cell_type": "code",
   "execution_count": null,
   "id": "7e916463-346e-497d-a60c-520a76c6fad7",
   "metadata": {},
   "outputs": [],
   "source": [
    "print(np1[search]) #returning the number [5]"
   ]
  },
  {
   "cell_type": "code",
   "execution_count": null,
   "id": "cb9ebf5d-7307-4170-9a3a-d23050413840",
   "metadata": {},
   "outputs": [],
   "source": [
    "#print even numbers\n",
    "np2 = np.array([1,2,3,4,5,6,6,7,8])\n",
    "even_num = np.where(np2 % 2 == 0)\n",
    "odd_num = np.where(np2 % 2 ==1)\n",
    "\n",
    "print(odd_num) #(array([0, 2, 4, 7]),)\n",
    "\n",
    "print(even_num) #array([1, 3, 5, 6, 8])"
   ]
  },
  {
   "cell_type": "code",
   "execution_count": null,
   "id": "0a8b49d1-28ed-4349-9a3e-29d545a17d28",
   "metadata": {},
   "outputs": [],
   "source": [
    "#print where array element = 5\n",
    "np3 = np.array([1,2,3,4,5,6,7])\n",
    "index = np.where(np3 == 5)\n",
    "element = np3[index]\n",
    "print(element) #return [5]\n"
   ]
  },
  {
   "cell_type": "code",
   "execution_count": null,
   "id": "b8c90e47-ef5d-4492-8d7f-9557a8fab35c",
   "metadata": {},
   "outputs": [],
   "source": []
  }
 ],
 "metadata": {
  "kernelspec": {
   "display_name": "Python 3 (ipykernel)",
   "language": "python",
   "name": "python3"
  },
  "language_info": {
   "codemirror_mode": {
    "name": "ipython",
    "version": 3
   },
   "file_extension": ".py",
   "mimetype": "text/x-python",
   "name": "python",
   "nbconvert_exporter": "python",
   "pygments_lexer": "ipython3",
   "version": "3.13.5"
  }
 },
 "nbformat": 4,
 "nbformat_minor": 5
}
