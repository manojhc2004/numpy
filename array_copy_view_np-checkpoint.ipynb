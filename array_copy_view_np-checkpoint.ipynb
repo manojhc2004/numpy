{
 "cells": [
  {
   "cell_type": "code",
   "execution_count": 2,
   "id": "c0fa7e09-81bf-4ba3-8e8f-6fb863ca4f4e",
   "metadata": {},
   "outputs": [],
   "source": [
    "import numpy as np"
   ]
  },
  {
   "cell_type": "code",
   "execution_count": 14,
   "id": "6500597f-8b1c-4a93-857a-93e85e29b46e",
   "metadata": {},
   "outputs": [],
   "source": [
    "np1 = np.array([1,2,3,4,5])\n",
    "np2 = np1.view()\n"
   ]
  },
  {
   "cell_type": "code",
   "execution_count": null,
   "id": "b5935a88-dc6f-4258-a607-712bb7f78e5d",
   "metadata": {},
   "outputs": [],
   "source": [
    "print(f'Original NP1 {np1}')\n",
    "print(f'Original NP2 {np2}')"
   ]
  },
  {
   "cell_type": "code",
   "execution_count": 16,
   "id": "21c33248-7926-4197-bf0e-ca6cc7b5c57a",
   "metadata": {},
   "outputs": [],
   "source": [
    "np1[0] = 50"
   ]
  },
  {
   "cell_type": "code",
   "execution_count": null,
   "id": "c2fc153f-1b4b-40bc-9cc7-bfc4f1935adb",
   "metadata": {},
   "outputs": [],
   "source": [
    "print(f'Original NP1 {np1}')\n",
    "print(f'Original NP2 {np2}')"
   ]
  },
  {
   "cell_type": "code",
   "execution_count": 20,
   "id": "bd0599f2-cee0-46b1-91f2-12482c84f770",
   "metadata": {},
   "outputs": [
    {
     "name": "stdout",
     "output_type": "stream",
     "text": [
      "<built-in method copy of numpy.ndarray object at 0x000002835C10D6B0>\n"
     ]
    }
   ],
   "source": [
    "#copy \n"
   ]
  },
  {
   "cell_type": "code",
   "execution_count": 22,
   "id": "c8974bd0-b8e5-4fae-98c3-b62798be937e",
   "metadata": {},
   "outputs": [
    {
     "name": "stdout",
     "output_type": "stream",
     "text": [
      "[ 5  6  7  8  9 10]\n"
     ]
    }
   ],
   "source": [
    "np3 = np.array([5,6,7,8,9,10])\n",
    "print(np3)"
   ]
  },
  {
   "cell_type": "code",
   "execution_count": null,
   "id": "3b558b18-c0cd-47bb-bb4e-8c7493d0e385",
   "metadata": {},
   "outputs": [],
   "source": [
    "np4 = np3.copy()\n",
    "print(np4)\n",
    "np5 = np1.copy()\n",
    "print(np5)"
   ]
  },
  {
   "cell_type": "code",
   "execution_count": null,
   "id": "6e7ddb74-9f1c-429a-83e1-a72b9f148c04",
   "metadata": {},
   "outputs": [],
   "source": []
  }
 ],
 "metadata": {
  "kernelspec": {
   "display_name": "Python 3 (ipykernel)",
   "language": "python",
   "name": "python3"
  },
  "language_info": {
   "codemirror_mode": {
    "name": "ipython",
    "version": 3
   },
   "file_extension": ".py",
   "mimetype": "text/x-python",
   "name": "python",
   "nbconvert_exporter": "python",
   "pygments_lexer": "ipython3",
   "version": "3.13.5"
  }
 },
 "nbformat": 4,
 "nbformat_minor": 5
}
