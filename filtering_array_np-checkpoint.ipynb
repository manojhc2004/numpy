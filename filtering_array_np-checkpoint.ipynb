{
 "cells": [
  {
   "cell_type": "code",
   "execution_count": 2,
   "id": "220ae8a2-f8d2-4dd6-b6fb-c1e375817a4c",
   "metadata": {},
   "outputs": [],
   "source": [
    "import numpy as np"
   ]
  },
  {
   "cell_type": "code",
   "execution_count": null,
   "id": "22aaf41b-f61b-4b98-8560-f90fa420def4",
   "metadata": {},
   "outputs": [],
   "source": [
    "#filtering\n",
    "np1 = np.array([1,2,3,4,5])\n",
    "filt = [True,True,False,True,False] #True == returing the element , #False not returing the element\n",
    "print(np1[filt]) #[1 2 4]\n",
    "\n"
   ]
  },
  {
   "cell_type": "code",
   "execution_count": null,
   "id": "02232de3-62cd-4144-8456-db4ca7815bc9",
   "metadata": {},
   "outputs": [],
   "source": [
    "#print even and odd using filter method\n",
    "\n",
    "np2 = np.array([1,2,3,4,5,6,7,8])\n",
    "even_element = []\n",
    "odd_element = []\n",
    "for i in np2:\n",
    "    if i % 2==0:\n",
    "        even_element.append(True)\n",
    "    else:\n",
    "        even_element.append(False)\n",
    "    if i % 2==1:\n",
    "        odd_element.append(True)\n",
    "    else:\n",
    "        odd_element.append(False)\n",
    "\n",
    "print(np2[odd_element])  #[1 3 5 7]\n",
    "print(np2[even_element]) #[2 4 6 8]\n"
   ]
  },
  {
   "cell_type": "code",
   "execution_count": null,
   "id": "98444322-4f13-4a53-91c1-6c528d0ad75d",
   "metadata": {},
   "outputs": [],
   "source": [
    "#print whos element is greate then 5\n",
    "greater_element  = []\n",
    "\n",
    "for i in np2:\n",
    "    if i > 5:\n",
    "        greater_element.append(True)\n",
    "    else:\n",
    "        greater_element.append(False)\n",
    "\n",
    "print(np2[greater_element]) #[6,7,8]"
   ]
  },
  {
   "cell_type": "code",
   "execution_count": null,
   "id": "a7911d9b-a13b-4c17-9dce-4f09f9966a6d",
   "metadata": {},
   "outputs": [],
   "source": [
    "#easy method\n",
    "#print whos element is greate then 5\n",
    "np3 = np.array([1,2,3,4,5,6,7,8,9])\n",
    "greater_element = np3 > 5\n",
    "print(greater_element) #[False False False False False  True  True  True  True] \n",
    "print(np3[greater_element]) #[6 7 8 9]\n",
    "\n"
   ]
  },
  {
   "cell_type": "code",
   "execution_count": null,
   "id": "2c797801-ecc3-4c3b-9755-74209a0d2535",
   "metadata": {},
   "outputs": [],
   "source": []
  }
 ],
 "metadata": {
  "kernelspec": {
   "display_name": "Python 3 (ipykernel)",
   "language": "python",
   "name": "python3"
  },
  "language_info": {
   "codemirror_mode": {
    "name": "ipython",
    "version": 3
   },
   "file_extension": ".py",
   "mimetype": "text/x-python",
   "name": "python",
   "nbconvert_exporter": "python",
   "pygments_lexer": "ipython3",
   "version": "3.13.5"
  }
 },
 "nbformat": 4,
 "nbformat_minor": 5
}
