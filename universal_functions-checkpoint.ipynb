{
 "cells": [
  {
   "cell_type": "code",
   "execution_count": 1,
   "id": "370ea94f-0bde-4710-859c-0968a6ea9e02",
   "metadata": {},
   "outputs": [],
   "source": [
    "import numpy as np\n"
   ]
  },
  {
   "cell_type": "code",
   "execution_count": null,
   "id": "6056a77e-530f-4be8-9a77-47f4b5a19b8f",
   "metadata": {},
   "outputs": [],
   "source": [
    "#find square root \n",
    "np1 = np.array([1,2,3,4,1,5])\n",
    "print(np.sqrt(np1))"
   ]
  },
  {
   "cell_type": "code",
   "execution_count": null,
   "id": "de9df7dd-e2a7-4062-9852-fa7ff1322d11",
   "metadata": {},
   "outputs": [],
   "source": [
    "#find abs value\n",
    "np2 = np.array([-5,-7,-4,-2,-1])\n",
    "print(np.abs(np2))\n",
    "#or\n",
    "print(np.absolute(np2))"
   ]
  },
  {
   "cell_type": "code",
   "execution_count": 10,
   "id": "592de5b9-2874-429d-94db-3599b95ff461",
   "metadata": {},
   "outputs": [
    {
     "name": "stdout",
     "output_type": "stream",
     "text": [
      "[0.00673795 0.00091188 0.01831564 0.13533528 0.36787944]\n"
     ]
    }
   ],
   "source": [
    "#exponents\n",
    "print(np.exp(np2))"
   ]
  },
  {
   "cell_type": "code",
   "execution_count": null,
   "id": "39bd32bf-4113-4ad1-b475-473c9a744a7a",
   "metadata": {},
   "outputs": [],
   "source": [
    "#Min, Max\n",
    "np3 = np.array([2,3,4,5,6,7])\n",
    "print(np.min(np3))\n"
   ]
  },
  {
   "cell_type": "code",
   "execution_count": null,
   "id": "b163c74b-195a-454f-8f06-864ca3c5c83e",
   "metadata": {},
   "outputs": [],
   "source": [
    "print(np.max(np3))"
   ]
  },
  {
   "cell_type": "code",
   "execution_count": null,
   "id": "efe9143c-2977-4bfe-af79-858c9a253097",
   "metadata": {},
   "outputs": [],
   "source": [
    "#sign\n",
    "np4 = np.array([1,2,-4,5])\n",
    "print(np.sign(np4))"
   ]
  },
  {
   "cell_type": "code",
   "execution_count": 20,
   "id": "bb9c4bf7-0fec-4e05-8fa9-55e4cb037597",
   "metadata": {},
   "outputs": [
    {
     "name": "stdout",
     "output_type": "stream",
     "text": [
      "[3.40119738]\n"
     ]
    }
   ],
   "source": [
    "#trig sin, cos, log\n",
    "np5 = np.array([30])\n",
    "print(np.log(np5))"
   ]
  },
  {
   "cell_type": "code",
   "execution_count": null,
   "id": "dab0779f-ad97-4847-8ad2-39b61a320b9d",
   "metadata": {},
   "outputs": [],
   "source": []
  },
  {
   "cell_type": "code",
   "execution_count": null,
   "id": "7e2e8aa6-7f2d-46f4-8654-16b272787797",
   "metadata": {},
   "outputs": [],
   "source": []
  }
 ],
 "metadata": {
  "kernelspec": {
   "display_name": "Python 3 (ipykernel)",
   "language": "python",
   "name": "python3"
  },
  "language_info": {
   "codemirror_mode": {
    "name": "ipython",
    "version": 3
   },
   "file_extension": ".py",
   "mimetype": "text/x-python",
   "name": "python",
   "nbconvert_exporter": "python",
   "pygments_lexer": "ipython3",
   "version": "3.13.5"
  }
 },
 "nbformat": 4,
 "nbformat_minor": 5
}
