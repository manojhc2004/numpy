{
 "cells": [
  {
   "cell_type": "code",
   "execution_count": null,
   "id": "0a9c525c-2637-4317-be2e-4e73aef52003",
   "metadata": {},
   "outputs": [],
   "source": [
    "import numpy as np\n",
    "np1 = np.array([0,1,2,3,4,5,6,7,8,9])\n",
    "print(np1)"
   ]
  },
  {
   "cell_type": "code",
   "execution_count": null,
   "id": "2a272fa6-dc6b-4dcb-b389-9f53910ba3c6",
   "metadata": {},
   "outputs": [],
   "source": [
    "#lenght\n",
    "print(np1.shape)\n"
   ]
  },
  {
   "cell_type": "code",
   "execution_count": null,
   "id": "e69d7efd-2eb0-419b-8084-789d308d7a01",
   "metadata": {},
   "outputs": [],
   "source": [
    "#for loop range\n",
    "np2 = np.arange(10)+1\n",
    "print(np2)"
   ]
  },
  {
   "cell_type": "code",
   "execution_count": null,
   "id": "453e7e51-f9d3-46d3-bb53-6418fd7813bc",
   "metadata": {},
   "outputs": [],
   "source": [
    "#modify\n",
    "np3 = np.arange(0,11,2) #(start, end, step)\n",
    "print(np3)"
   ]
  },
  {
   "cell_type": "code",
   "execution_count": null,
   "id": "490f7983-8191-4d79-8a14-9e93ba778e25",
   "metadata": {},
   "outputs": [],
   "source": [
    "#range all element =0\n",
    "np4 = np.zeros(11)\n",
    "print(np4)"
   ]
  },
  {
   "cell_type": "code",
   "execution_count": null,
   "id": "ea5036b7-9791-4eed-b597-de589811861a",
   "metadata": {},
   "outputs": [],
   "source": [
    "#mulit dimenstional array \n",
    "np5 = np.zeros((2,10))\n",
    "print(np5)"
   ]
  },
  {
   "cell_type": "code",
   "execution_count": null,
   "id": "2529fef4-df10-4545-957d-753bcef25ad5",
   "metadata": {},
   "outputs": [],
   "source": [
    "#2D array to assigning values (full)\n",
    "np6 = np.full((2,10), 1)  #((D?,size of element), value) for 2D , #((size of element),value) for 1D\n",
    "print(np6)"
   ]
  },
  {
   "cell_type": "code",
   "execution_count": 38,
   "id": "548c7c4d-9e5d-47be-b01e-75f18a6bd1e3",
   "metadata": {},
   "outputs": [
    {
     "name": "stdout",
     "output_type": "stream",
     "text": [
      "[1 1 1 1 1 1 1 1 1 1]\n"
     ]
    }
   ],
   "source": [
    "#1D array\n",
    "np7 = np.full(10,1)\n",
    "print(np7)"
   ]
  },
  {
   "cell_type": "code",
   "execution_count": null,
   "id": "20e651b4-e019-462d-971f-1a4d121c7e51",
   "metadata": {},
   "outputs": [],
   "source": [
    "np8 = np.full(2,10,1)\n",
    "print(np8)"
   ]
  },
  {
   "cell_type": "code",
   "execution_count": 43,
   "id": "57ad80cb-5573-46b5-97bf-81dbfc3598fb",
   "metadata": {},
   "outputs": [
    {
     "name": "stdout",
     "output_type": "stream",
     "text": [
      "[5 4 3 2 1]\n"
     ]
    }
   ],
   "source": [
    "#conver python list(array) to numpy list(array)\n",
    "python_list = [5,4,3,2,1]\n",
    "\n",
    "#to convert\n",
    "np9 = np.array(python_list)\n",
    "print(np9)"
   ]
  },
  {
   "cell_type": "code",
   "execution_count": null,
   "id": "88f78441-8673-4164-83d0-97cf0d14c1e5",
   "metadata": {},
   "outputs": [],
   "source": []
  },
  {
   "cell_type": "code",
   "execution_count": null,
   "id": "15deb16a-d598-454b-9deb-f5a59e7512f9",
   "metadata": {},
   "outputs": [],
   "source": []
  }
 ],
 "metadata": {
  "kernelspec": {
   "display_name": "Python 3 (ipykernel)",
   "language": "python",
   "name": "python3"
  },
  "language_info": {
   "codemirror_mode": {
    "name": "ipython",
    "version": 3
   },
   "file_extension": ".py",
   "mimetype": "text/x-python",
   "name": "python",
   "nbconvert_exporter": "python",
   "pygments_lexer": "ipython3",
   "version": "3.13.5"
  }
 },
 "nbformat": 4,
 "nbformat_minor": 5
}
